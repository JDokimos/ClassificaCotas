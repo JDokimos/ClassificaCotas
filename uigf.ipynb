{
 "cells": [
  {
   "cell_type": "code",
   "execution_count": 1,
   "metadata": {},
   "outputs": [
    {
     "data": {
      "text/plain": [
       "'pt_BR.UTF-8'"
      ]
     },
     "execution_count": 1,
     "metadata": {},
     "output_type": "execute_result"
    }
   ],
   "source": [
    "#Instalar dependências\n",
    "#%!pip install -U pandas\n",
    "#%!pip install -U pyarrow\n",
    "#%!pip install -U openpyxl\n",
    "#%!pip install -U tqdm\n",
    "#%!pip install -U streamlit\n",
    "\n",
    "# Importar bibliotecas\n",
    "import os\n",
    "import pandas as pd\n",
    "import streamlit as st\n",
    "import locale\n",
    "import glob\n",
    "from pathlib import Path\n",
    "from tqdm import tqdm\n",
    "from IPython.display import display, Markdown\n",
    "\n",
    "# Configura o locale para 'pt_BR.UTF-8'\n",
    "locale.setlocale(locale.LC_ALL, 'pt_BR.UTF-8')"
   ]
  },
  {
   "cell_type": "code",
   "execution_count": null,
   "metadata": {},
   "outputs": [],
   "source": [
    "\n",
    "from classificar_itens import classificar_itens\n",
    "import pandas as pd\n",
    "import streamlit as st\n",
    "from io import BytesIO\n",
    "\n",
    "\n",
    "def to_excel(df):\n",
    "    output = BytesIO()\n",
    "    # Gerenciar o ExcelWriter com o contexto 'with'\n",
    "    with pd.ExcelWriter(output, engine='xlsxwriter') as writer:\n",
    "        df.to_excel(writer, index=False, sheet_name='Sheet1')\n",
    "        # writer.save() não é necessário aqui\n",
    "    processed_data = output.getvalue()\n",
    "    return processed_data\n",
    "    \n",
    "\n",
    "def main():\n",
    "    st.title(\"Classificação de Itens para ME/EPP e Ampla Concorrência\")\n",
    "\n",
    "    # Upload do arquivo Excel\n",
    "    uploaded_file = st.file_uploader(\n",
    "        \"Selecione o arquivo Excel\", type=[\"xlsx\", \"xls\"])\n",
    "    \n",
    "    if uploaded_file:\n",
    "        df = pd.read_excel(uploaded_file)\n",
    "        df_classificado = classificar_itens(df)\n",
    "\n",
    "        # Mostrar o DataFrame classificado\n",
    "        st.write(df_classificado)\n",
    "\n",
    "        # Criar o arquivo Excel em memória e permitir o download\n",
    "        excel_data = to_excel(df_classificado)\n",
    "\n",
    "        st.download_button(\n",
    "            label=\"Baixar Planilha Classificada\",\n",
    "            data=excel_data,\n",
    "            file_name=\"planilha_classificada.xlsx\",\n",
    "            mime=\"application/vnd.openxmlformats-officedocument.spreadsheetml.sheet\"\n",
    "        )\n",
    "\n",
    "if __name__ == '__main__':\n",
    "    main()"
   ]
  },
  {
   "cell_type": "code",
   "execution_count": null,
   "metadata": {},
   "outputs": [],
   "source": []
  }
 ],
 "metadata": {
  "kernelspec": {
   "display_name": "Python 3",
   "language": "python",
   "name": "python3"
  },
  "language_info": {
   "codemirror_mode": {
    "name": "ipython",
    "version": 3
   },
   "file_extension": ".py",
   "mimetype": "text/x-python",
   "name": "python",
   "nbconvert_exporter": "python",
   "pygments_lexer": "ipython3",
   "version": "3.12.2"
  }
 },
 "nbformat": 4,
 "nbformat_minor": 2
}
